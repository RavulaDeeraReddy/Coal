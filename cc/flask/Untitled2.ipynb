{
  "cells": [
    {
      "cell_type": "code",
      "execution_count": 6,
      "metadata": {
        "id": "-0RcQS9SrDka"
      },
      "outputs": [],
      "source": [
        "from keras.models import Sequential\n",
        "from keras.layers import Convolution2D, Flatten, Dense, MaxPooling2D\n",
        "from keras.preprocessing.image import ImageDataGenerator"
      ]
    },
    {
      "cell_type": "code",
      "execution_count": 7,
      "metadata": {
        "id": "gwWWHPClrUMR"
      },
      "outputs": [],
      "source": [
        "train_datagen=ImageDataGenerator(horizontal_flip=True,rescale=1./255,zoom_range=0.2)"
      ]
    },
    {
      "cell_type": "code",
      "execution_count": 8,
      "metadata": {
        "id": "K5UVZaoFrYrg"
      },
      "outputs": [],
      "source": [
        "test_datagen=ImageDataGenerator(rescale=1./255)"
      ]
    },
    {
      "cell_type": "code",
      "execution_count": 9,
      "metadata": {
        "colab": {
          "base_uri": "https://localhost:8080/"
        },
        "id": "waQ8vGabrd1s",
        "outputId": "1f0c369b-90c0-40d2-8ffc-6ff26434a950"
      },
      "outputs": [
        {
          "name": "stdout",
          "output_type": "stream",
          "text": [
            "Drive already mounted at /content/drive; to attempt to forcibly remount, call drive.mount(\"/content/drive\", force_remount=True).\n"
          ]
        }
      ],
      "source": [
        "from google.colab import drive\n",
        "drive.mount('/content/drive')"
      ]
    },
    {
      "cell_type": "code",
      "execution_count": 10,
      "metadata": {
        "colab": {
          "base_uri": "https://localhost:8080/"
        },
        "id": "QcFontWPrjse",
        "outputId": "c06eb9a6-5bbb-443a-ed52-cc33f8a7ea8b"
      },
      "outputs": [
        {
          "name": "stdout",
          "output_type": "stream",
          "text": [
            "Found 253 images belonging to 5 classes.\n"
          ]
        }
      ],
      "source": [
        "X_train=train_datagen.flow_from_directory(\"/content/drive/MyDrive/coal/\",target_size=(128,128),class_mode='categorical',batch_size=5)"
      ]
    },
    {
      "cell_type": "code",
      "execution_count": 11,
      "metadata": {
        "colab": {
          "base_uri": "https://localhost:8080/"
        },
        "id": "Yb7-DBN4sWLz",
        "outputId": "cdfd80b1-dfbc-4da4-c355-1963ec684664"
      },
      "outputs": [
        {
          "name": "stdout",
          "output_type": "stream",
          "text": [
            "Found 253 images belonging to 5 classes.\n"
          ]
        }
      ],
      "source": [
        "X_test=test_datagen.flow_from_directory(\"/content/drive/MyDrive/coal/\",target_size=(128,128),class_mode='categorical',batch_size=5)"
      ]
    },
    {
      "cell_type": "code",
      "execution_count": 12,
      "metadata": {
        "id": "HaNJWTIrsdX5"
      },
      "outputs": [],
      "source": [
        "from tensorflow.keras.models import Sequential\n",
        "from tensorflow.keras.layers import Dense\n",
        "from tensorflow.keras.layers import Convolution2D\n",
        "from tensorflow.keras.layers import MaxPooling2D\n",
        "from tensorflow.keras.layers import Flatten\n",
        "from tensorflow.keras.optimizers import Adam"
      ]
    },
    {
      "cell_type": "code",
      "execution_count": 13,
      "metadata": {
        "id": "l8rAfc07sh_i"
      },
      "outputs": [],
      "source": [
        "#initialising the model\n",
        "model=Sequential()"
      ]
    },
    {
      "cell_type": "code",
      "execution_count": 14,
      "metadata": {
        "id": "gRwcuwPKsl6_"
      },
      "outputs": [],
      "source": [
        "#adding the cnn\n",
        "model.add(Convolution2D(32,(3,3),input_shape=(128,128,3),activation='relu'))"
      ]
    },
    {
      "cell_type": "code",
      "execution_count": 15,
      "metadata": {
        "id": "YDQDTq5Nspjz"
      },
      "outputs": [],
      "source": [
        "model.add(MaxPooling2D(pool_size=(2,2)))"
      ]
    },
    {
      "cell_type": "code",
      "execution_count": 16,
      "metadata": {
        "id": "rh4PC8oNsucj"
      },
      "outputs": [],
      "source": [
        "model.add(Convolution2D(32,(3,3),activation='relu'))"
      ]
    },
    {
      "cell_type": "code",
      "execution_count": 17,
      "metadata": {
        "id": "I59-r4NRsySY"
      },
      "outputs": [],
      "source": [
        "model.add(MaxPooling2D(pool_size=(2,2)))"
      ]
    },
    {
      "cell_type": "code",
      "execution_count": 18,
      "metadata": {
        "id": "KmmmM3KBs1hh"
      },
      "outputs": [],
      "source": [
        "model.add(Flatten())"
      ]
    },
    {
      "cell_type": "code",
      "execution_count": 19,
      "metadata": {
        "colab": {
          "base_uri": "https://localhost:8080/"
        },
        "id": "dI44yvt7s54Z",
        "outputId": "b51d20a1-df7e-41ac-e1ad-4693a4cfacad"
      },
      "outputs": [
        {
          "name": "stdout",
          "output_type": "stream",
          "text": [
            "Model: \"sequential\"\n",
            "_________________________________________________________________\n",
            " Layer (type)                Output Shape              Param #   \n",
            "=================================================================\n",
            " conv2d (Conv2D)             (None, 126, 126, 32)      896       \n",
            "                                                                 \n",
            " max_pooling2d (MaxPooling2D  (None, 63, 63, 32)       0         \n",
            " )                                                               \n",
            "                                                                 \n",
            " conv2d_1 (Conv2D)           (None, 61, 61, 32)        9248      \n",
            "                                                                 \n",
            " max_pooling2d_1 (MaxPooling  (None, 30, 30, 32)       0         \n",
            " 2D)                                                             \n",
            "                                                                 \n",
            " flatten (Flatten)           (None, 28800)             0         \n",
            "                                                                 \n",
            "=================================================================\n",
            "Total params: 10,144\n",
            "Trainable params: 10,144\n",
            "Non-trainable params: 0\n",
            "_________________________________________________________________\n"
          ]
        }
      ],
      "source": [
        "model.summary()"
      ]
    },
    {
      "cell_type": "code",
      "execution_count": 20,
      "metadata": {
        "colab": {
          "base_uri": "https://localhost:8080/"
        },
        "id": "Sup24LR_tAJ2",
        "outputId": "c9ac0840-a9f2-49bd-90ca-ec36641b35ed"
      },
      "outputs": [
        {
          "name": "stdout",
          "output_type": "stream",
          "text": [
            "Model: \"sequential\"\n",
            "_________________________________________________________________\n",
            " Layer (type)                Output Shape              Param #   \n",
            "=================================================================\n",
            " conv2d (Conv2D)             (None, 126, 126, 32)      896       \n",
            "                                                                 \n",
            " max_pooling2d (MaxPooling2D  (None, 63, 63, 32)       0         \n",
            " )                                                               \n",
            "                                                                 \n",
            " conv2d_1 (Conv2D)           (None, 61, 61, 32)        9248      \n",
            "                                                                 \n",
            " max_pooling2d_1 (MaxPooling  (None, 30, 30, 32)       0         \n",
            " 2D)                                                             \n",
            "                                                                 \n",
            " flatten (Flatten)           (None, 28800)             0         \n",
            "                                                                 \n",
            " dense (Dense)               (None, 300)               8640300   \n",
            "                                                                 \n",
            " dense_1 (Dense)             (None, 150)               45150     \n",
            "                                                                 \n",
            " dense_2 (Dense)             (None, 5)                 755       \n",
            "                                                                 \n",
            "=================================================================\n",
            "Total params: 8,696,349\n",
            "Trainable params: 8,696,349\n",
            "Non-trainable params: 0\n",
            "_________________________________________________________________\n"
          ]
        }
      ],
      "source": [
        "#denser layers\n",
        "model.add(Dense(300,activation='relu'))\n",
        "model.add(Dense(150,activation='relu'))\n",
        "model.add(Dense(5,activation='softmax'))\n",
        "model.summary()"
      ]
    },
    {
      "cell_type": "code",
      "execution_count": 21,
      "metadata": {
        "id": "K3HeFjlNtGoZ"
      },
      "outputs": [],
      "source": [
        "model.compile(optimizer=\"adam\",loss=\"categorical_crossentropy\", metrics=['accuracy'])"
      ]
    },
    {
      "cell_type": "code",
      "execution_count": 22,
      "metadata": {
        "colab": {
          "base_uri": "https://localhost:8080/"
        },
        "id": "JlW5gT9ptNHB",
        "outputId": "6b4dc0e7-7a94-450f-cefe-d6a163699e1d"
      },
      "outputs": [
        {
          "name": "stdout",
          "output_type": "stream",
          "text": [
            "Epoch 1/20\n",
            "51/51 [==============================] - 119s 2s/step - loss: 1.6354 - accuracy: 0.2688 - val_loss: 1.4619 - val_accuracy: 0.3281\n",
            "Epoch 2/20\n",
            "51/51 [==============================] - 31s 610ms/step - loss: 1.2793 - accuracy: 0.4783 - val_loss: 0.9140 - val_accuracy: 0.6403\n",
            "Epoch 3/20\n",
            "51/51 [==============================] - 28s 538ms/step - loss: 0.9766 - accuracy: 0.5889 - val_loss: 0.8915 - val_accuracy: 0.6798\n",
            "Epoch 4/20\n",
            "51/51 [==============================] - 28s 544ms/step - loss: 0.8746 - accuracy: 0.6680 - val_loss: 0.6743 - val_accuracy: 0.7470\n",
            "Epoch 5/20\n",
            "51/51 [==============================] - 24s 464ms/step - loss: 0.6988 - accuracy: 0.7273 - val_loss: 0.4556 - val_accuracy: 0.8300\n",
            "Epoch 6/20\n",
            "51/51 [==============================] - 27s 542ms/step - loss: 0.6381 - accuracy: 0.7628 - val_loss: 0.6741 - val_accuracy: 0.7312\n",
            "Epoch 7/20\n",
            "51/51 [==============================] - 24s 466ms/step - loss: 0.4082 - accuracy: 0.8577 - val_loss: 0.2704 - val_accuracy: 0.9209\n",
            "Epoch 8/20\n",
            "51/51 [==============================] - 28s 554ms/step - loss: 0.3770 - accuracy: 0.8893 - val_loss: 0.3149 - val_accuracy: 0.8933\n",
            "Epoch 9/20\n",
            "51/51 [==============================] - 28s 543ms/step - loss: 0.3187 - accuracy: 0.9012 - val_loss: 0.2307 - val_accuracy: 0.9091\n",
            "Epoch 10/20\n",
            "51/51 [==============================] - 24s 471ms/step - loss: 0.2501 - accuracy: 0.8972 - val_loss: 0.2681 - val_accuracy: 0.9130\n",
            "Epoch 11/20\n",
            "51/51 [==============================] - 29s 556ms/step - loss: 0.2932 - accuracy: 0.8972 - val_loss: 0.7457 - val_accuracy: 0.8300\n",
            "Epoch 12/20\n",
            "51/51 [==============================] - 24s 478ms/step - loss: 0.3060 - accuracy: 0.9012 - val_loss: 0.1666 - val_accuracy: 0.9526\n",
            "Epoch 13/20\n",
            "51/51 [==============================] - 25s 485ms/step - loss: 0.2569 - accuracy: 0.9249 - val_loss: 0.0885 - val_accuracy: 0.9763\n",
            "Epoch 14/20\n",
            "51/51 [==============================] - 28s 542ms/step - loss: 0.1834 - accuracy: 0.9407 - val_loss: 0.0693 - val_accuracy: 0.9763\n",
            "Epoch 15/20\n",
            "51/51 [==============================] - 30s 584ms/step - loss: 0.1973 - accuracy: 0.9328 - val_loss: 0.1733 - val_accuracy: 0.9526\n",
            "Epoch 16/20\n",
            "51/51 [==============================] - 28s 543ms/step - loss: 0.1858 - accuracy: 0.9328 - val_loss: 0.1475 - val_accuracy: 0.9486\n",
            "Epoch 17/20\n",
            "51/51 [==============================] - 27s 541ms/step - loss: 0.0821 - accuracy: 0.9723 - val_loss: 0.0569 - val_accuracy: 0.9842\n",
            "Epoch 18/20\n",
            "51/51 [==============================] - 24s 473ms/step - loss: 0.1173 - accuracy: 0.9486 - val_loss: 0.0919 - val_accuracy: 0.9842\n",
            "Epoch 19/20\n",
            "51/51 [==============================] - 27s 541ms/step - loss: 0.4978 - accuracy: 0.8340 - val_loss: 0.4035 - val_accuracy: 0.8300\n",
            "Epoch 20/20\n",
            "51/51 [==============================] - 28s 548ms/step - loss: 0.2914 - accuracy: 0.9130 - val_loss: 0.0811 - val_accuracy: 0.9723\n"
          ]
        },
        {
          "data": {
            "text/plain": [
              "<keras.callbacks.History at 0x7fe9eb7af520>"
            ]
          },
          "execution_count": 22,
          "metadata": {},
          "output_type": "execute_result"
        }
      ],
      "source": [
        "#training the model\n",
        "model.fit(X_train, validation_data=X_test, epochs=20)"
      ]
    },
    {
      "cell_type": "code",
      "execution_count": 23,
      "metadata": {
        "id": "cBfcTZtr9fqD"
      },
      "outputs": [],
      "source": [
        "#saving the model\n",
        "model.save('coal.h5')"
      ]
    },
    {
      "cell_type": "code",
      "execution_count": 24,
      "metadata": {
        "id": "uCadW9jD-ZrM"
      },
      "outputs": [],
      "source": [
        "import numpy as np\n"
      ]
    },
    {
      "cell_type": "code",
      "execution_count": 52,
      "metadata": {
        "id": "5C2dzKu8-dj3"
      },
      "outputs": [],
      "source": [
        "#testing the model\n",
        "from tensorflow.keras.preprocessing import image"
      ]
    },
    {
      "cell_type": "code",
      "execution_count": 53,
      "metadata": {
        "id": "aMuMU4oA-hYa"
      },
      "outputs": [],
      "source": [
        "from tensorflow.keras.models import load_model\n",
        "model.load_weights('coal.h5')"
      ]
    },
    {
      "cell_type": "code",
      "execution_count": 147,
      "metadata": {
        "colab": {
          "base_uri": "https://localhost:8080/"
        },
        "id": "V2WSsFB2-mBj",
        "outputId": "b0d77f1d-e81f-45a3-eaf2-92cdee1b5252"
      },
      "outputs": [
        {
          "data": {
            "text/plain": [
              "(128, 128, 3)"
            ]
          },
          "execution_count": 147,
          "metadata": {},
          "output_type": "execute_result"
        }
      ],
      "source": [
        "img=image.load_img(\"/content/drive/MyDrive/coal/Anthracite/IMG_5997.jpg\",target_size=(128,128))\n",
        "x=image.img_to_array(img)\n",
        "x.shape"
      ]
    },
    {
      "cell_type": "code",
      "execution_count": 148,
      "metadata": {
        "colab": {
          "base_uri": "https://localhost:8080/",
          "height": 145
        },
        "id": "TbY4mAuR_Eih",
        "outputId": "a37a3232-9267-4563-a368-e8005e423510"
      },
      "outputs": [
        {
          "data": {
            "image/png": "[encoded data removed]",
            "text/plain": [
              "<PIL.Image.Image image mode=RGB size=128x128 at 0x7FE9EBD53670>"
            ]
          },
          "execution_count": 148,
          "metadata": {},
          "output_type": "execute_result"
        }
      ],
      "source": [
        "img"
      ]
    },
    {
      "cell_type": "code",
      "execution_count": 149,
      "metadata": {
        "colab": {
          "base_uri": "https://localhost:8080/"
        },
        "id": "NDigxS_O_IKJ",
        "outputId": "7c877947-095f-4f70-c21f-5641bcc05f8e"
      },
      "outputs": [
        {
          "data": {
            "text/plain": [
              "(1, 128, 128, 3)"
            ]
          },
          "execution_count": 149,
          "metadata": {},
          "output_type": "execute_result"
        }
      ],
      "source": [
        "x=np.expand_dims(x,axis=0)\n",
        "x.shape"
      ]
    },
    {
      "cell_type": "code",
      "execution_count": 150,
      "metadata": {
        "colab": {
          "base_uri": "https://localhost:8080/"
        },
        "id": "uA8xVQ9R_LdY",
        "outputId": "c37a3bd7-cbb7-4ee2-c0c6-3881657690e1"
      },
      "outputs": [
        {
          "name": "stdout",
          "output_type": "stream",
          "text": [
            "1/1 [==============================] - 0s 31ms/step\n"
          ]
        },
        {
          "data": {
            "text/plain": [
              "array([[1., 0., 0., 0., 0.]], dtype=float32)"
            ]
          },
          "execution_count": 150,
          "metadata": {},
          "output_type": "execute_result"
        }
      ],
      "source": [
        "prediction=model.predict(x)\n",
        "prediction"
      ]
    },
    {
      "cell_type": "code",
      "execution_count": 151,
      "metadata": {
        "id": "Lc10U50e_PCQ"
      },
      "outputs": [],
      "source": [
        "index=[\"Anthracite\",\"Bituminous\",\"Lignite\",\"Not coal\",\"Peat\"]"
      ]
    },
    {
      "cell_type": "code",
      "execution_count": 152,
      "metadata": {
        "colab": {
          "base_uri": "https://localhost:8080/",
          "height": 35
        },
        "id": "2LnHkskK_ac2",
        "outputId": "96dbeed2-bd76-460e-86d9-1c30b218a8d6"
      },
      "outputs": [
        {
          "data": {
            "application/vnd.google.colaboratory.intrinsic+json": {
              "type": "string"
            },
            "text/plain": [
              "'Anthracite'"
            ]
          },
          "execution_count": 152,
          "metadata": {},
          "output_type": "execute_result"
        }
      ],
      "source": [
        "result=str(index[prediction[0].tolist().index(1)])\n",
        "result"
      ]
    }
  ],
  "metadata": {
    "colab": {
      "provenance": []
    },
    "kernelspec": {
      "display_name": "Python 3",
      "name": "python3"
    },
    "language_info": {
      "name": "python"
    }
  },
  "nbformat": 4,
  "nbformat_minor": 0
}
